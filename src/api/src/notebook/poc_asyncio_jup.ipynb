{
 "cells": [
  {
   "cell_type": "code",
   "execution_count": null,
   "metadata": {},
   "outputs": [],
   "source": [
    "import sys\n",
    "import os\n",
    "\n",
    "print(os.getcwd())\n",
    "path_src = os.getcwd().replace(os.getcwd().split('/')[-1],'')\n",
    "print(path_src)\n",
    "path_conectores = os.getcwd().replace(os.getcwd().split('/')[-1],'conectores')\n",
    "print(path_conectores)\n",
    "path_paralell = os.getcwd().replace(os.getcwd().split('/')[-1],'paralell')\n",
    "print(path_paralell)\n",
    "# path_resource = os.getcwd().replace(os.getcwd().split('/')[-1],'resourcex')\n",
    "# print(path_resource)\n",
    "\n",
    "sys.path.append(f'{path_src}')\n",
    "sys.path.append(f'{path_conectores}')\n",
    "sys.path.append(f'{path_paralell}')\n",
    "# sys.path.append(f'{path_resource}')"
   ]
  },
  {
   "cell_type": "code",
   "execution_count": 6,
   "metadata": {},
   "outputs": [
    {
     "ename": "NameError",
     "evalue": "name 'some_async_function' is not defined",
     "output_type": "error",
     "traceback": [
      "\u001b[0;31m---------------------------------------------------------------------------\u001b[0m",
      "\u001b[0;31mNameError\u001b[0m                                 Traceback (most recent call last)",
      "Cell \u001b[0;32mIn[6], line 4\u001b[0m\n\u001b[1;32m      2\u001b[0m loop \u001b[38;5;241m=\u001b[39m asyncio\u001b[38;5;241m.\u001b[39mget_event_loop()\n\u001b[1;32m      3\u001b[0m \u001b[38;5;66;03m# loop.create_task(some_async_function())\u001b[39;00m\n\u001b[0;32m----> 4\u001b[0m asyncio\u001b[38;5;241m.\u001b[39mrun_coroutine_threadsafe(\u001b[43msome_async_function\u001b[49m(), loop)\n",
      "\u001b[0;31mNameError\u001b[0m: name 'some_async_function' is not defined"
     ]
    }
   ],
   "source": [
    "import asyncio\n",
    "loop = asyncio.get_event_loop()\n",
    "# loop.create_task(some_async_function())\n",
    "asyncio.run_coroutine_threadsafe(some_async_function(), loop)\n"
   ]
  },
  {
   "cell_type": "code",
   "execution_count": null,
   "metadata": {},
   "outputs": [],
   "source": [
    "from datetime import datetime, date\n",
    "start_date = date(2024, 1, 1) \n",
    "end_date = date(2035, 12, 1) \n",
    "for data in rrule(MONTHLY, dtstart=start_date, until=end_date):\n",
    "    print(f'Buscando Informações da data: {data}')"
   ]
  },
  {
   "cell_type": "code",
   "execution_count": 10,
   "metadata": {},
   "outputs": [
    {
     "name": "stdout",
     "output_type": "stream",
     "text": [
      "started.\n",
      "done.\n",
      "started.\n",
      "done.\n",
      "<!doctype html><html\n",
      "<!doctype html>\n",
      "<!--[if lt IE 7]>   <html class=\"no-js ie6 lt-ie7 lt-ie8 lt-ie9\">   <![endif]-->\n",
      "<!-\n",
      "<!doctype html><html itemscope=\"\" itemtype=\"http://schema.org/WebPage\" lang=\"pt-BR\"><head><meta cont\n",
      "<!DOCTYPE html><html><head><meta charSet=\"utf-8\"/><title>Yifei&#x27;s Notes</title><meta name=\"viewp\n"
     ]
    }
   ],
   "source": [
    "import asyncio\n",
    "import aiohttp\n",
    "\n",
    "async def func1():\n",
    "    print(\"started.\")\n",
    "    await asyncio.sleep(2)\n",
    "    print(\"done.\")\n",
    "\n",
    "async def func2():\n",
    "    print(\"started.\")\n",
    "    await asyncio.sleep(2)\n",
    "    print(\"done.\")\n",
    "\n",
    "async def do_request():\n",
    "    #proxy_url = 'http://localhost:8118'  # your proxy address\n",
    "    async with aiohttp.ClientSession() as session:\n",
    "        async with session.get('http://google.com') as response:\n",
    "            print((await response.text())[:20])\n",
    "\n",
    "async def fetch(session, url):\n",
    "    async with session.get(url) as response:\n",
    "        return await response.text()\n",
    "        #print((await response.text())[:20])\n",
    "\n",
    "async def do_request2():\n",
    "    urls = [\n",
    "            'http://python.org',\n",
    "            'https://google.com',\n",
    "            'http://yifei.me'\n",
    "        ]\n",
    "    tasks = []\n",
    "    async with aiohttp.ClientSession() as session:\n",
    "        for url in urls:\n",
    "            tasks.append(fetch(session, url))\n",
    "        htmls = await asyncio.gather(*tasks)\n",
    "        for html in htmls:\n",
    "            print(html[:100])\n",
    "\n",
    "    \n",
    "async def main():\n",
    "    await func1()\n",
    "    await func2()\n",
    "    await do_request()\n",
    "    await do_request2()\n",
    "    \n",
    "await main()\n"
   ]
  },
  {
   "cell_type": "code",
   "execution_count": 13,
   "metadata": {},
   "outputs": [
    {
     "name": "stdout",
     "output_type": "stream",
     "text": [
      "Sleeping 1 seconds.\n",
      "Sleeping 2 seconds.\n",
      "Sleeping 3 seconds.\n",
      "Sleeping 4 seconds.\n",
      "Sleeping 5 seconds.\n",
      "Sleeping 6 seconds.\n",
      "Sleeping 7 seconds.\n",
      "Sleeping 8 seconds.\n",
      "Sleeping 9 seconds.\n",
      "Took 9.00 seconds.\n"
     ]
    }
   ],
   "source": [
    "import asyncio\n",
    "from datetime import datetime\n",
    "\n",
    "async def async_sleep(num):\n",
    "    print(f\"Sleeping {num} seconds.\")\n",
    "    await asyncio.sleep(num)\n",
    "\n",
    "\n",
    "async def main():\n",
    "    start = datetime.now()\n",
    "\n",
    "    coro_objs = []\n",
    "    for i in range(1, 10):\n",
    "        coro_objs.append(async_sleep(i))\n",
    "    \n",
    "    await asyncio.gather(*coro_objs)\n",
    "    \n",
    "    duration = datetime.now() - start\n",
    "    print(f\"Took {duration.total_seconds():.2f} seconds.\")\n",
    "\n",
    "# asyncio.run(main())\n",
    "# Sleeping 1 seconds.\n",
    "# Sleeping 2 seconds.\n",
    "# Sleeping 3 seconds.\n",
    "# Took 3.00 seconds.\n",
    "await main()"
   ]
  },
  {
   "cell_type": "code",
   "execution_count": 18,
   "metadata": {},
   "outputs": [
    {
     "name": "stdout",
     "output_type": "stream",
     "text": [
      "Iteracao 3, tempo decorrido: 1\n",
      "Iteracao 4, tempo decorrido: 1\n",
      "Iteracao 5, tempo decorrido: 1\n",
      "Iteracao 0, tempo decorrido: 2\n",
      "Iteracao 2, tempo decorrido: 2\n",
      "Iteracao 6, tempo decorrido: 2\n",
      "Iteracao 8, tempo decorrido: 2\n",
      "Iteracao 9, tempo decorrido: 3\n",
      "Iteracao 1, tempo decorrido: 4\n",
      "Iteracao 7, tempo decorrido: 4\n"
     ]
    }
   ],
   "source": [
    "#!/usr/bin/env python\n",
    "# -*- coding: utf-8 -*-\n",
    "import asyncio\n",
    "import random\n",
    "import time\n",
    "async def coroutine_task(iteraction):\n",
    "    process_time = random.randint(1,5)\n",
    "    await asyncio.sleep(process_time)\n",
    "    print(f'Iteracao {iteraction}, tempo decorrido: {process_time}')\n",
    "    # Aqui nao poderiamos usar a funcao time.sleep(process_time) \n",
    "    # porque a mesma eh bloqueante.\n",
    "async def coroutine_task_01():\n",
    "    # Aqui existe uma iteracao apenas para executar criar Tasks \n",
    "    # chamado a funcao coroutine_task, que eh uma corrotina.\n",
    "    tasks = []\n",
    "    for iteraction in range(10):\n",
    "        tasks.append(asyncio.create_task(\n",
    "              coroutine_task(iteraction)))\n",
    "    # As Task sao agrupadas em uma lista e passadas para o metodo \n",
    "    # asyncio.gather, para que sejam executada concorrentemente.\n",
    "    # O uso de await infoma ao loop um ponto de bloquei e que a \n",
    "    # corrotina/tarefa podera ser suspensa para que o controle \n",
    "    # seja passado para outra corrotina.\n",
    "    # Outra observacao a ser feita eh que o asyncio.create_task pode\n",
    "    # ser substituido tranquilamente pela funcao \n",
    "    # asyncio.ensure_future. O exemplo com asyncio.ensure_future \n",
    "    # eh demonstrado na couroutine coroutine_task_02\n",
    "    await asyncio.gather(*tasks)\n",
    "async def coroutine_task_02():\n",
    "    # A coroutine_task_02 faz exetamente a mesma coisa que a\n",
    "    # coroutine_task_01, a unica diferenca eh que neste exemplo\n",
    "    # asyncio.gather nao eh utilizado.\n",
    "    # O loop ira suspender o controle para as outras corrotinas \n",
    "    # que estao fora deste contexto de execucao. Mas, as tarefas\n",
    "    # desta coroutina nao irao ser executadas de forma concorrente.\n",
    "    # A nao ser que voltemos a usa a funcao asyncio.gather ou\n",
    "    # outra funcao que tenha funcionalidade semelhante.\n",
    "    for iteraction in range(10):\n",
    "        task = asyncio.ensure_future(coroutine_task(iteraction))\n",
    "        await task\n",
    "    # asyncio.gather(*tasks) \n",
    "    # Descomente esta funcao para obter concorrencia.\n",
    "async def main():\n",
    "    # Estrategias para inicializar o loop de execucao das \n",
    "    # couroutines e Tasks. UTILIZE APENAS UMA das opcoes abaixo e\n",
    "    # comente as demais.\n",
    "    # -----------------------------------------------------------\n",
    "    # 1. A funcao asyncio.run captura automaticamente o loop de\n",
    "    # evento e quando todas as tarefas sao executadas a funcao \n",
    "    # loop.close() eh chamada implicitamente.\n",
    "    # Esta eh a opcao mais recomendada pela documentacao.\n",
    "    # -----------------------------------------------------------\n",
    "    # asyncio.run(coroutine_task_01())\n",
    "    await coroutine_task_01()\n",
    "    # 2. run_until_complete - Mantem o loop em execucao ate que\n",
    "    # todas as tasks sejam executadas. Apos isso o loop e a \n",
    "    # aplicacao sao encerrados.\n",
    "    # -----------------------------------------------------------\n",
    "    # loop = asyncio.get_event_loop()\n",
    "    # loop.run_until_complete(coroutine_task_01())\n",
    "    # loop.close()\n",
    "    # 3. Mantem o loop em execucao por tempo indefinido. \n",
    "    # O loop so sera encerrado com Control+C ou se for \n",
    "    # chamada a funcao loop.stop()\n",
    "    # -----------------------------------------------------------\n",
    "    # loop = asyncio.get_event_loop()\n",
    "    # task_function = asyncio.ensure_future(coroutine_task_01())\n",
    "    # loop.run_forever()\n",
    "if __name__ == '__main__':\n",
    "    await main()"
   ]
  },
  {
   "cell_type": "code",
   "execution_count": 12,
   "metadata": {},
   "outputs": [
    {
     "name": "stdout",
     "output_type": "stream",
     "text": [
      "default thread pool b'\\'<\\xf05\\xfd\\xf5\\xd3Z\\xd6/H\\x96o\\xbc\"\\x9c\\x93XYWJ\\xc8\\x0e\\xe6\\xfc]\\xe9\\x8b\\x07S\\xc4\\xe2\\x9e\\xb9\\xf3R-M\\x178Ja\\xf5\\x06^\\xa6g\\xaee`\\x01ts\\x06x\\xc7D.\\r\\xf5\\t\\xaa\\xb8\\xc6_\\xd8(\\xa2\\x8e\\xc1\\t\\xd9\\x17\\x9d\\x903-;>\\x07F\\x11\\xbb\\xdf\\xcdI\\x88\\xbeC\\x8d\\xd6\\xfc\\xa2G\\xa1\\xca\\x9e\\x03\\xc3\\xaf'\n",
      "custom thread pool b'8\"\\xc2i\\xee\\x08\\xdb\\'\\x92u88U\\xfa\\xbeV!8\\x9d=Rz\\xd1\\x18!\\xbb\\x86\"4\\xd7\\x17p\\t\\xc0\\xeey\\xb1\\xac8\\x1b\\xe7rE\\\\x\\xb2\\xf0\\xf1\\xc3\\xc8Z\\xef\\xbb-\\x1dQ\\xf4\\xe2O(C\\xaf\\xda\\x7fI6*\\xbf\\xae\\x84k\\x1aOe\\x13_\\x1d8D\\x85\\x0c)F\\xeb\\xccW\\xe5\\xe6}\\xb9\\x81\\x8b\\xc9x\\xd2\\x7f\\xa0\\xf3\\x94\\xbe'\n"
     ]
    },
    {
     "name": "stdout",
     "output_type": "stream",
     "text": [
      "custom process pool 333333283333335000000\n"
     ]
    }
   ],
   "source": [
    "import asyncio\n",
    "import concurrent.futures\n",
    "\n",
    "def blocking_io():\n",
    "    # File operations (such as logging) can block the\n",
    "    # event loop: run them in a thread pool.\n",
    "    with open('/dev/urandom', 'rb') as f:\n",
    "        return f.read(100)\n",
    "\n",
    "def cpu_bound():\n",
    "    # CPU-bound operations will block the event loop:\n",
    "    # in general it is preferable to run them in a\n",
    "    # process pool.\n",
    "    return sum(i * i for i in range(10 ** 7))\n",
    "\n",
    "async def main():\n",
    "    loop = asyncio.get_running_loop()\n",
    "\n",
    "    ## Options:\n",
    "\n",
    "    # 1. Run in the default loop's executor:\n",
    "    result = await loop.run_in_executor(\n",
    "        None, blocking_io)\n",
    "    print('default thread pool', result)\n",
    "\n",
    "    # 2. Run in a custom thread pool:\n",
    "    with concurrent.futures.ThreadPoolExecutor() as pool:\n",
    "        result = await loop.run_in_executor(\n",
    "            pool, blocking_io)\n",
    "        print('custom thread pool', result)\n",
    "\n",
    "    # 3. Run in a custom process pool:\n",
    "    with concurrent.futures.ProcessPoolExecutor() as pool:\n",
    "        result = await loop.run_in_executor(\n",
    "            pool, cpu_bound)\n",
    "        print('custom process pool', result)\n",
    "\n",
    "await main()"
   ]
  }
 ],
 "metadata": {
  "kernelspec": {
   "display_name": "env",
   "language": "python",
   "name": "python3"
  },
  "language_info": {
   "codemirror_mode": {
    "name": "ipython",
    "version": 3
   },
   "file_extension": ".py",
   "mimetype": "text/x-python",
   "name": "python",
   "nbconvert_exporter": "python",
   "pygments_lexer": "ipython3",
   "version": "3.10.12"
  }
 },
 "nbformat": 4,
 "nbformat_minor": 2
}
