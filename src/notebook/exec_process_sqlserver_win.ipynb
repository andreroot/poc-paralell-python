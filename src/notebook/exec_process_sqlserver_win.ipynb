{
 "cells": [
  {
   "cell_type": "code",
   "execution_count": 1,
   "metadata": {},
   "outputs": [],
   "source": [
    "# import sys\n",
    "# import subprocess\n",
    "\n",
    "# arquivos = ['run_all_dbo_history.py','main_indra.py','main_safira.py']\n",
    "# processos = []\n",
    "\n",
    "# for arquivo in arquivos:\n",
    "#     processo = subprocess.Popen([\"C:\\\\Users\\\\abarbosa\\\\Documents\\\\projetos\\\\processos_sql_server\\\\.venv\\\\Scripts\\\\python.exe\", f\"C:\\\\Users\\\\abarbosa\\\\Documents\\\\projetos\\\\processos_sql_server\\\\src\\\\{arquivo}\"], stdout=subprocess.PIPE,stderr=subprocess.PIPE)\n",
    "#     processos.append(processo)\n",
    "\n",
    "# exit_codes = [processo.communicate() for processo in processos]"
   ]
  },
  {
   "cell_type": "markdown",
   "metadata": {},
   "source": [
    "### PROCESSAR DADOS HISTORICOS COM DATHISTORICO DA CURVA E ARMAZENAR NA TABELA\n",
    "> [modelo].[BaseHistorica].[BoletasProcessadas]"
   ]
  },
  {
   "cell_type": "code",
   "execution_count": 1,
   "metadata": {},
   "outputs": [],
   "source": [
    "import subprocess\n",
    "#C:\\Users\\abarbosa\\Documents\\projetos\\processos_sql_server\\src\\run_primary_bases_portifolio.py\n",
    "process = subprocess.Popen([\"C:\\\\Users\\\\abarbosa\\\\Documents\\\\projetos\\\\processos_sql_server\\\\.venv\\\\Scripts\\\\python.exe\",\"C:\\\\Users\\\\abarbosa\\\\Documents\\\\projetos\\\\processos_sql_server\\\\src\\\\run_primary_bases_portifolio.py\"], stdout=subprocess.PIPE,stderr=subprocess.PIPE)\n",
    "(output, err) = process.communicate()  "
   ]
  },
  {
   "cell_type": "code",
   "execution_count": 2,
   "metadata": {},
   "outputs": [
    {
     "name": "stdout",
     "output_type": "stream",
     "text": [
      "2025-02-27 12:16:43.164943\n",
      "Windows\n",
      "executou com ERRO!!!\n",
      "Traceback (most recent call last):\n",
      "  File \"C:\\Users\\abarbosa\\Documents\\projetos\\processos_sql_server\\src\\bases_portifolio\\main_comercial.py\", line 6, in <module>\n",
      "    from src.x_process.process_sql import ExecProcessSqlServerNew\n",
      "ModuleNotFoundError: No module named 'src.x_process'\n",
      "\n",
      "executou com ERRO!!!\n",
      "Traceback (most recent call last):\n",
      "  File \"C:\\Users\\abarbosa\\Documents\\projetos\\processos_sql_server\\src\\bases_portifolio\\main_indra.py\", line 6, in <module>\n",
      "    from src.x_process.process_sql import ExecProcessSqlServerNew\n",
      "ModuleNotFoundError: No module named 'src.x_process'\n",
      "\n",
      "executou com ERRO!!!\n",
      "Traceback (most recent call last):\n",
      "  File \"C:\\Users\\abarbosa\\Documents\\projetos\\processos_sql_server\\src\\bases_portifolio\\main_safira.py\", line 6, in <module>\n",
      "    from src.x_process.process_sql import ExecProcessSqlServerNew\n",
      "ModuleNotFoundError: No module named 'src.x_process'\n",
      "\n",
      "2025-02-27 12:16:44.523537\n",
      "\n"
     ]
    }
   ],
   "source": [
    "print(output.decode(\"utf-8\"))"
   ]
  },
  {
   "cell_type": "markdown",
   "metadata": {},
   "source": [
    "### PROCESSAR DADOS CALCULADOS PARA GERAR TABELA DE CONSUMO POR OUTROS PORCESSSOS\n",
    "\n",
    "> book.HistoricoPosicao_log\n",
    "\n",
    "> book.book.HistoricoPosicaoContraparte_log "
   ]
  },
  {
   "cell_type": "code",
   "execution_count": 4,
   "metadata": {},
   "outputs": [],
   "source": [
    "import subprocess\n",
    "\n",
    "process = subprocess.Popen([\"C:\\\\Users\\\\abarbosa\\\\Documents\\\\projetos\\\\processos_sql_server\\\\.venv\\\\Scripts\\\\python.exe\",\"C:\\\\Users\\\\abarbosa\\\\Documents\\\\projetos\\\\processos_sql_server\\\\src\\\\run_hist_operation_portifolio.py\"], stdout=subprocess.PIPE,stderr=subprocess.PIPE)\n",
    "(output, err) = process.communicate() "
   ]
  },
  {
   "cell_type": "code",
   "execution_count": 5,
   "metadata": {},
   "outputs": [
    {
     "name": "stdout",
     "output_type": "stream",
     "text": [
      "2024-10-22 15:11:48.095138\n",
      "Windows\n",
      " executou com SUCESSO!!!\n",
      "2024-10-22 15:11:55.185582\n",
      "execução do decorator-stream: sql-server/exec_historico_posicao_log\n",
      "inicio do envio para kinesis\n",
      "{\"HASH_SEND_K\": \"f027534e2ffb4b0802e9d245a24d2000a8b77d6e96122a2033bc3b5e4f3f6952\", \"DATE_SEND_K\": \"2024-10-22T15:11:58.646606\", \"ID_PROCESS_NAME\": \"f2318bb5a2f0349234dfea89de8f6e6014e1a5b758b433c62451b6b93eee140f\", \"PROCESS_NAME_PAI\": \"sql-server/exec_historico_posicao_log\", \"PROCESS_NAME\": \"ExecProcessSqlServerNew\", \"STEP_NAME\": \"exec_historico_posicao_log\", \"STATUS\": \"EXECUTANDO\", \"DATE_START\": \"2024-10-22T15:11:55.185582\", \"DATE_END\": null, \"TIPO_SERVICO\": \"monitoria\", \"JSON\": \"{\\\"key\\\": \\\"value\\\"}\", \"DESCRICAO_STATUS\": \"EXECUTANDO\"}\n",
      "Sucess put record in stream safira-kinesis-stream.\n",
      "buscar credencial na aws\n",
      "Windows\n",
      "Creating engine - sqlalchemy...\n",
      "Driver SQL: 'ODBC Driver 17 for SQL Server'\n",
      "conectado as 2024-10-22 15:12:10.323743\n",
      "{\"HASH_SEND_K\": \"4108f5c591a3e29e21d353d5d804c1dd1dcc41de5b53ae46a9bc4760860f11d7\", \"DATE_SEND_K\": \"2024-10-22T15:13:34.520603\", \"ID_PROCESS_NAME\": \"f2318bb5a2f0349234dfea89de8f6e6014e1a5b758b433c62451b6b93eee140f\", \"PROCESS_NAME_PAI\": \"sql-server/exec_historico_posicao_log\", \"PROCESS_NAME\": \"ExecProcessSqlServerNew\", \"STEP_NAME\": \"exec_historico_posicao_log\", \"STATUS\": \"OK\", \"DATE_START\": \"2024-10-22T15:11:55.185582\", \"DATE_END\": \"2024-10-22T15:13:32.418834\", \"TIPO_SERVICO\": \"monitoria\", \"JSON\": \"{\\\"key\\\": \\\"value\\\"}\", \"DESCRICAO_STATUS\": \"Dados inseridos (20527)\"}\n",
      "Sucess put record in stream safira-kinesis-stream.\n",
      "2024-10-22 15:13:36.026830\n",
      "\n",
      " executou com SUCESSO!!!\n",
      "2024-10-22 15:11:55.185582\n",
      "execução do decorator-stream: sql-server/exec_historico_posicaocontraparte_log\n",
      "inicio do envio para kinesis\n",
      "{\"HASH_SEND_K\": \"f027534e2ffb4b0802e9d245a24d2000a8b77d6e96122a2033bc3b5e4f3f6952\", \"DATE_SEND_K\": \"2024-10-22T15:11:58.655465\", \"ID_PROCESS_NAME\": \"0a40221eb4e6a1c954f1e1d1c22b716c782100b1fdb6fb776d1eef4e95b483ed\", \"PROCESS_NAME_PAI\": \"sql-server/exec_historico_posicaocontraparte_log\", \"PROCESS_NAME\": \"ExecProcessSqlServerNew\", \"STEP_NAME\": \"exec_historico_posicaocontraparte_log\", \"STATUS\": \"EXECUTANDO\", \"DATE_START\": \"2024-10-22T15:11:55.185582\", \"DATE_END\": null, \"TIPO_SERVICO\": \"monitoria\", \"JSON\": \"{\\\"key\\\": \\\"value\\\"}\", \"DESCRICAO_STATUS\": \"EXECUTANDO\"}\n",
      "Sucess put record in stream safira-kinesis-stream.\n",
      "buscar credencial na aws\n",
      "Windows\n",
      "Creating engine - sqlalchemy...\n",
      "Driver SQL: 'ODBC Driver 17 for SQL Server'\n",
      "conectado as 2024-10-22 15:12:10.322672\n",
      "{\"HASH_SEND_K\": \"abe0c867e4204e273d7e083877e4977bc9c7b3464a134f5c2a03fd61e4ff4882\", \"DATE_SEND_K\": \"2024-10-22T15:13:17.532282\", \"ID_PROCESS_NAME\": \"0a40221eb4e6a1c954f1e1d1c22b716c782100b1fdb6fb776d1eef4e95b483ed\", \"PROCESS_NAME_PAI\": \"sql-server/exec_historico_posicaocontraparte_log\", \"PROCESS_NAME\": \"ExecProcessSqlServerNew\", \"STEP_NAME\": \"exec_historico_posicaocontraparte_log\", \"STATUS\": \"OK\", \"DATE_START\": \"2024-10-22T15:11:55.185582\", \"DATE_END\": \"2024-10-22T15:13:14.609262\", \"TIPO_SERVICO\": \"monitoria\", \"JSON\": \"{\\\"key\\\": \\\"value\\\"}\", \"DESCRICAO_STATUS\": \"Dados inseridos (55783)\"}\n",
      "Sucess put record in stream safira-kinesis-stream.\n",
      "2024-10-22 15:13:19.347475\n",
      "2024-10-22 15:13:19.347475\n",
      "\n",
      "2024-10-22 15:13:36.217191\n",
      "\n"
     ]
    }
   ],
   "source": [
    "print(output.decode(\"utf-8\"))"
   ]
  },
  {
   "cell_type": "code",
   "execution_count": 6,
   "metadata": {},
   "outputs": [
    {
     "name": "stdout",
     "output_type": "stream",
     "text": [
      "b''\n"
     ]
    }
   ],
   "source": [
    "print(err)"
   ]
  },
  {
   "cell_type": "markdown",
   "metadata": {},
   "source": [
    "### PROCESSAR ULTIMA ETAPA TABELA LE DADOS GERADO NA ETAPA ANTERIOR\n",
    "\n",
    "> BOOK.[HistoricoResultado_log]\n",
    "\n",
    "> BOOK.[BOOK].proc_InformacaoComercial_table6"
   ]
  },
  {
   "cell_type": "code",
   "execution_count": 7,
   "metadata": {},
   "outputs": [],
   "source": [
    "import subprocess\n",
    "\n",
    "process = subprocess.Popen([\"C:\\\\Users\\\\abarbosa\\\\Documents\\\\projetos\\\\processos_sql_server\\\\.venv\\\\Scripts\\\\python.exe\",\"C:\\\\Users\\\\abarbosa\\\\Documents\\\\projetos\\\\processos_sql_server\\\\src\\\\main_ultimo_process.py\"], stdout=subprocess.PIPE,stderr=subprocess.PIPE)\n",
    "(output, err) = process.communicate() "
   ]
  },
  {
   "cell_type": "code",
   "execution_count": 8,
   "metadata": {},
   "outputs": [],
   "source": [
    "output=str(output.decode(\"utf-8\"))\n",
    "err=str(err.decode(\"utf-8\"))"
   ]
  },
  {
   "cell_type": "code",
   "execution_count": 9,
   "metadata": {},
   "outputs": [
    {
     "name": "stdout",
     "output_type": "stream",
     "text": [
      "2024-10-22 15:13:38.801184\n",
      "2024-10-22 15:13:38.801184\n",
      "execução do decorator-stream: sql-server/exec_historico_resultado_log\n",
      "inicio do envio para kinesis\n",
      "{\"HASH_SEND_K\": \"ebbb7975a46d178b03c5680583725da20b9623f2c3df03ad1a7bdb521f12c03f\", \"DATE_SEND_K\": \"2024-10-22T15:13:40.999963\", \"ID_PROCESS_NAME\": \"21643c21c218bb711decdc5fa717f8e92da06a2025e77791f03d7b7c85ec079b\", \"PROCESS_NAME_PAI\": \"sql-server/exec_historico_resultado_log\", \"PROCESS_NAME\": \"ExecProcessSqlServerNew\", \"STEP_NAME\": \"exec_historico_resultado_log\", \"STATUS\": \"EXECUTANDO\", \"DATE_START\": \"2024-10-22T15:13:38.801184\", \"DATE_END\": null, \"TIPO_SERVICO\": \"monitoria\", \"JSON\": \"{\\\"key\\\": \\\"value\\\"}\", \"DESCRICAO_STATUS\": \"EXECUTANDO\"}\n",
      "Sucess put record in stream safira-kinesis-stream.\n",
      "buscar credencial na aws\n",
      "Windows\n",
      "Creating engine - sqlalchemy...\n",
      "Driver SQL: 'ODBC Driver 17 for SQL Server'\n",
      "conectado as 2024-10-22 15:13:46.227387\n",
      "{\"HASH_SEND_K\": \"3eb2bf8ea18efdd24edd1579c819e5828d0f35d680d61028564905808ecb5092\", \"DATE_SEND_K\": \"2024-10-22T15:14:33.102194\", \"ID_PROCESS_NAME\": \"21643c21c218bb711decdc5fa717f8e92da06a2025e77791f03d7b7c85ec079b\", \"PROCESS_NAME_PAI\": \"sql-server/exec_historico_resultado_log\", \"PROCESS_NAME\": \"ExecProcessSqlServerNew\", \"STEP_NAME\": \"exec_historico_resultado_log\", \"STATUS\": \"ERROR\", \"DATE_START\": \"2024-10-22T15:13:38.801184\", \"DATE_END\": \"2024-10-22T15:14:30.388543\", \"TIPO_SERVICO\": \"monitoria\", \"JSON\": \"{\\\"key\\\": \\\"value\\\"}\", \"DESCRICAO_STATUS\": \"(pyodbc.OperationalError) ('08S01', '[08S01] [Microsoft][ODBC Driver 17 for SQL Server]Provedor TCP: Uma conex\\u00e3o estabelecida foi anulada pelo software no computador host.\\\\r\\\\n (10053) (SQLGetData); [08S01] [Microsoft][ODBC Driver 17 for SQL Server]Falha de v\\u00ednculo de comunica\\u00e7\\u00e3o (10053)')\\n(Background on this error at: https://sqlalche.me/e/20/e3q8)\"}\n",
      "Sucess put record in stream safira-kinesis-stream.\n",
      "\n"
     ]
    }
   ],
   "source": [
    "print(output)"
   ]
  },
  {
   "cell_type": "markdown",
   "metadata": {},
   "source": [
    "#### VALIDAÇÃO DOS DADOS GERADOS"
   ]
  },
  {
   "cell_type": "code",
   "execution_count": 4,
   "metadata": {},
   "outputs": [
    {
     "name": "stdout",
     "output_type": "stream",
     "text": [
      "c:\\Users\\abarbosa\\Documents\\projetos\\processos_sql_server\\src\\notebook\n",
      "c:\\Users\\abarbosa\\Documents\\projetos\\processos_sql_server\\src\\\n",
      "c:\\Users\\abarbosa\\Documents\\projetos\\processos_sql_server\\src\\v1\\conectores\n",
      "['C:\\\\Users\\\\abarbosa\\\\AppData\\\\Local\\\\Programs\\\\Python\\\\Python311\\\\python311.zip', 'C:\\\\Users\\\\abarbosa\\\\AppData\\\\Local\\\\Programs\\\\Python\\\\Python311\\\\DLLs', 'C:\\\\Users\\\\abarbosa\\\\AppData\\\\Local\\\\Programs\\\\Python\\\\Python311\\\\Lib', 'C:\\\\Users\\\\abarbosa\\\\AppData\\\\Local\\\\Programs\\\\Python\\\\Python311', 'c:\\\\Users\\\\abarbosa\\\\Documents\\\\projetos\\\\processos_sql_server\\\\.venv', '', 'c:\\\\Users\\\\abarbosa\\\\Documents\\\\projetos\\\\processos_sql_server\\\\.venv\\\\Lib\\\\site-packages', 'c:\\\\Users\\\\abarbosa\\\\Documents\\\\projetos\\\\processos_sql_server\\\\.venv\\\\Lib\\\\site-packages\\\\win32', 'c:\\\\Users\\\\abarbosa\\\\Documents\\\\projetos\\\\processos_sql_server\\\\.venv\\\\Lib\\\\site-packages\\\\win32\\\\lib', 'c:\\\\Users\\\\abarbosa\\\\Documents\\\\projetos\\\\processos_sql_server\\\\.venv\\\\Lib\\\\site-packages\\\\Pythonwin', 'c:\\\\Users\\\\abarbosa\\\\Documents\\\\projetos\\\\processos_sql_server\\\\src\\\\', 'c:\\\\Users\\\\abarbosa\\\\Documents\\\\projetos\\\\processos_sql_server\\\\src\\\\conectores', 'c:\\\\Users\\\\abarbosa\\\\Documents\\\\projetos\\\\processos_sql_server\\\\src\\\\', 'c:\\\\Users\\\\abarbosa\\\\Documents\\\\projetos\\\\processos_sql_server\\\\src\\\\v1\\\\conectores']\n"
     ]
    }
   ],
   "source": [
    "import sys\n",
    "import os\n",
    "\n",
    "print(os.getcwd())\n",
    "path_lib=os.getcwd()\n",
    "\n",
    "path_lib_src = path_lib.replace(os.getcwd().split('\\\\')[-1],'')\n",
    "print(path_lib_src)\n",
    "\n",
    "path_lib_conn = path_lib.replace(os.getcwd().split('\\\\')[-1],'v1\\\\conectores')\n",
    "print(path_lib_conn)\n",
    "\n",
    "# incluir no path do python PYTHONPATH\n",
    "sys.path.append(f'{path_lib_src}')\n",
    "sys.path.append(f'{path_lib_conn}')\n",
    "\n",
    "print(sys.path)"
   ]
  },
  {
   "cell_type": "code",
   "execution_count": 5,
   "metadata": {},
   "outputs": [],
   "source": [
    "#!/usr/bin/python\n",
    "# -*- coding: utf-8 -*-\n",
    "import codecs\n",
    "\n",
    "import re\n",
    "import os\n",
    "                \n",
    "def read_file_win( file):\n",
    "    \n",
    "    \n",
    "    # file = f'C:\\\\Users\\\\abarbosa\\\\Documents\\\\projetos\\\\processos_sql_server\\\\src\\\\v1\\\\sql\\\\{file}'\n",
    "\n",
    "    f=codecs.open(file, \"r\", 'utf-8')\n",
    "    conteudo=f.readlines()\n",
    "    strsql = \"\"\n",
    "\n",
    "    for ln in conteudo:\n",
    "        strsql += ln\n",
    "\n",
    "    return strsql\n"
   ]
  },
  {
   "cell_type": "code",
   "execution_count": 9,
   "metadata": {},
   "outputs": [],
   "source": [
    "from conectores.conectar_sql_server import ConectSqlServer\n",
    "import pandas as pd\n",
    "def valida_execucao_manual_via_notebook( database, file):\n",
    "\n",
    "    conn = ConectSqlServer()\n",
    "    \n",
    "    script_proc = read_file_win(file)\n",
    "    \n",
    "    ## Querys para Selecionar o Portfólio Histórico\n",
    "    # script_proc =(f\"\"\"  \"\"\")\n",
    "\n",
    "    get_engine_sqlalchemy = conn.get_engine_sqlalchemy(database)\n",
    "\n",
    "            \n",
    "    df = pd.DataFrame()\n",
    "    df = pd.read_sql_query(script_proc, get_engine_sqlalchemy)\n",
    "            \n",
    "    return df"
   ]
  },
  {
   "cell_type": "code",
   "execution_count": 22,
   "metadata": {},
   "outputs": [
    {
     "name": "stdout",
     "output_type": "stream",
     "text": [
      "buscar credencial na aws\n",
      "Creating engine - sqlalchemy...\n",
      "Driver SQL: 'ODBC Driver 17 for SQL Server'\n",
      "conectado as 2025-04-16 17:04:04.347971\n"
     ]
    }
   ],
   "source": [
    "df = valida_execucao_manual_via_notebook('modelo','proc_count_book_informacao_comercial.sql')"
   ]
  },
  {
   "cell_type": "code",
   "execution_count": 23,
   "metadata": {},
   "outputs": [
    {
     "data": {
      "text/plain": [
       "27373"
      ]
     },
     "execution_count": 23,
     "metadata": {},
     "output_type": "execute_result"
    }
   ],
   "source": [
    "len(df)"
   ]
  },
  {
   "cell_type": "code",
   "execution_count": 24,
   "metadata": {},
   "outputs": [],
   "source": [
    "import csv\n",
    "df.to_csv('book_informacao_comercial.csv',sep=';', quoting=csv.QUOTE_ALL , quotechar='\"',index=None, escapechar='\"')\n"
   ]
  },
  {
   "cell_type": "code",
   "execution_count": 14,
   "metadata": {},
   "outputs": [],
   "source": [
    "script_proc=\"\"\"\n",
    "SELECT *\n",
    "FROM book.HistoricoPosicao_log\n",
    "WHERE DataHistorico >=  (select concat(max(data),'T23:59:59.000Z') start_date from book.curva.Curva_Fwd where curva = 'Oficial')\n",
    "\"\"\""
   ]
  },
  {
   "cell_type": "code",
   "execution_count": 17,
   "metadata": {},
   "outputs": [],
   "source": [
    "# import subprocess\n",
    "# from subprocess import Popen, PIPE\n",
    "\n",
    "# file=['run_teste1.sh','run_teste2.sh']\n",
    "# processos=[]\n",
    "\n",
    "# for arq in file:\n",
    "#     with subprocess.Popen([f\"sh /home/administrador/projetos/processos_sql_server/running_scripts/{arq}\"], stdout=subprocess.PIPE, stderr=subprocess.PIPE, shell=True) as proc:\n",
    "#         #print(proc.stdout.read())\n",
    "#     #session = subprocess.Popen([\"sh /home/administrador/projetos/processos_sql_server/running_scripts/run_teste1.sh\"], stdout=PIPE, stderr=PIPE)\n",
    "#         processos.append(proc)\n",
    "#         stdout, stderr = proc.communicate()\n",
    "\n",
    "# for processo in processos:\n",
    "#     processo.wait()\n"
   ]
  },
  {
   "cell_type": "code",
   "execution_count": 18,
   "metadata": {},
   "outputs": [],
   "source": [
    "#'\"C:\\\\Users\\\\abarbosa\\\\Documents\\\\projetos\\\\processos_sql_server\\\\.venv\\\\Scripts\\\\python.exe --version\"'"
   ]
  },
  {
   "cell_type": "code",
   "execution_count": 19,
   "metadata": {},
   "outputs": [],
   "source": [
    "# with subprocess.Popen([\"sh /home/administrador/projetos/processos_sql_server/running_scripts/run_teste1.sh\"], stdout=subprocess.PIPE, stderr=subprocess.PIPE, shell=True) as proc:\n",
    "#     print(proc.stdout.read())\n",
    "#     if proc.stderr:\n",
    "#         print(str(proc.stderr.read())    )"
   ]
  },
  {
   "cell_type": "code",
   "execution_count": 20,
   "metadata": {},
   "outputs": [],
   "source": [
    "# cmd1 = [r'myFile.bat']\n",
    "# p = SP.Popen(cmd1,stdin=SP.PIPE,stdout=SP.PIPE)\n",
    "# output = p.communicate(input='x'.encode())[0]\n",
    "# print(output.decode('ascii'))\n",
    "\n",
    "# validar na base de dados\n",
    "# select * from [modelo].[BaseHistorica].[LogBoletasProcessadas] order by ProcessInsertTimeFim desc\n",
    "\n",
    "# --select * from [modelo].[BaseHistorica].BoletasProcessadas where ProcessInsertTimeInic IS NOT NULL"
   ]
  }
 ],
 "metadata": {
  "kernelspec": {
   "display_name": ".venv",
   "language": "python",
   "name": "python3"
  },
  "language_info": {
   "codemirror_mode": {
    "name": "ipython",
    "version": 3
   },
   "file_extension": ".py",
   "mimetype": "text/x-python",
   "name": "python",
   "nbconvert_exporter": "python",
   "pygments_lexer": "ipython3",
   "version": "3.11.5"
  }
 },
 "nbformat": 4,
 "nbformat_minor": 2
}
