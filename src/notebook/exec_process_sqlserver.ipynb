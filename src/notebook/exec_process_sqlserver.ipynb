{
 "cells": [
  {
   "cell_type": "code",
   "execution_count": 16,
   "metadata": {},
   "outputs": [],
   "source": [
    "import sys\n",
    "import subprocess\n",
    "\n",
    "arquivos = ['main_comercial.py','main_indra.py','main_safira.py']\n",
    "processos = []\n",
    "output = []\n",
    "\n",
    "for arquivo in arquivos:\n",
    "    processo = subprocess.Popen([\"/home/administrador/projetos/processos_sql_server/.venv/bin/python3.11\", f\"/home/administrador/projetos/processos_sql_server/src/{arquivo}\"], stdout=subprocess.PIPE,stderr=subprocess.PIPE)\n",
    "    processos.append(processo)\n",
    "\n",
    "exit_codes = [processo.communicate() for processo in processos]"
   ]
  },
  {
   "cell_type": "code",
   "execution_count": 17,
   "metadata": {},
   "outputs": [],
   "source": [
    "output=str(exit_codes[0][0].decode(\"utf-8\"))\n",
    "#print(output.decode('ascii'))"
   ]
  },
  {
   "cell_type": "code",
   "execution_count": 18,
   "metadata": {},
   "outputs": [
    {
     "name": "stdout",
     "output_type": "stream",
     "text": [
      "2024-10-14 11:54:54.783948\n",
      "buscar credencial na aws\n",
      "Creating engine - sqlalchemy...\n",
      "Driver SQL: 'ODBC Driver 18 for SQL Server'\n",
      "conectado as 2024-10-14 11:54:58.041875\n",
      "2024-10-10T23:59:59.000Z\n",
      "2024-10-14 11:54:58.296785\n",
      "\n"
     ]
    }
   ],
   "source": [
    "print(output)"
   ]
  },
  {
   "cell_type": "code",
   "execution_count": 19,
   "metadata": {},
   "outputs": [],
   "source": [
    "output=str(exit_codes[1][1].decode(\"utf-8\"))\n"
   ]
  },
  {
   "cell_type": "code",
   "execution_count": 20,
   "metadata": {},
   "outputs": [
    {
     "name": "stdout",
     "output_type": "stream",
     "text": [
      "\n"
     ]
    }
   ],
   "source": [
    "print(output)"
   ]
  },
  {
   "cell_type": "code",
   "execution_count": 6,
   "metadata": {},
   "outputs": [
    {
     "ename": "IndexError",
     "evalue": "list index out of range",
     "output_type": "error",
     "traceback": [
      "\u001b[0;31m---------------------------------------------------------------------------\u001b[0m",
      "\u001b[0;31mIndexError\u001b[0m                                Traceback (most recent call last)",
      "Cell \u001b[0;32mIn[6], line 1\u001b[0m\n\u001b[0;32m----> 1\u001b[0m output\u001b[38;5;241m=\u001b[39m\u001b[38;5;28mstr\u001b[39m(\u001b[43mexit_codes\u001b[49m\u001b[43m[\u001b[49m\u001b[38;5;241;43m2\u001b[39;49m\u001b[43m]\u001b[49m[\u001b[38;5;241m0\u001b[39m]\u001b[38;5;241m.\u001b[39mdecode(\u001b[38;5;124m\"\u001b[39m\u001b[38;5;124mutf-8\u001b[39m\u001b[38;5;124m\"\u001b[39m))\n",
      "\u001b[0;31mIndexError\u001b[0m: list index out of range"
     ]
    }
   ],
   "source": [
    "output=str(exit_codes[2][0].decode(\"utf-8\"))\n"
   ]
  },
  {
   "cell_type": "code",
   "execution_count": 7,
   "metadata": {},
   "outputs": [
    {
     "name": "stdout",
     "output_type": "stream",
     "text": [
      "2024-10-14 11:50:39.687127\n",
      "buscar credencial na aws\n",
      "Creating engine - sqlalchemy...\n",
      "Driver SQL: 'ODBC Driver 18 for SQL Server'\n",
      "conectado as 2024-10-14 11:50:42.636537\n",
      "\n"
     ]
    }
   ],
   "source": [
    "print(output)"
   ]
  },
  {
   "cell_type": "code",
   "execution_count": 21,
   "metadata": {},
   "outputs": [],
   "source": [
    "\n",
    "import subprocess\n",
    "\n",
    "process = subprocess.Popen([\"/home/administrador/projetos/processos_sql_server/.venv/bin/python3.11\", f\"/home/administrador/projetos/processos_sql_server/src/main_process_history.py\"], stdout=subprocess.PIPE,stderr=subprocess.PIPE)\n",
    "(output, err) = process.communicate()  "
   ]
  },
  {
   "cell_type": "code",
   "execution_count": 22,
   "metadata": {},
   "outputs": [
    {
     "name": "stdout",
     "output_type": "stream",
     "text": [
      "2024-10-14 11:55:18.338381\n",
      "buscar credencial na aws\n",
      "Creating engine - sqlalchemy...\n",
      "Driver SQL: 'ODBC Driver 18 for SQL Server'\n",
      "conectado as 2024-10-14 11:55:19.852599\n",
      "2024-10-10T23:59:59.000Z\n",
      "2024-10-14 11:55:20.026918\n",
      "\n"
     ]
    }
   ],
   "source": [
    "print(output.decode(\"utf-8\"))"
   ]
  },
  {
   "cell_type": "code",
   "execution_count": 23,
   "metadata": {},
   "outputs": [
    {
     "name": "stdout",
     "output_type": "stream",
     "text": [
      "\n"
     ]
    }
   ],
   "source": [
    "print(err.decode(\"utf-8\"))\n",
    "#\"C:\\\\Users\\\\abarbosa\\\\Documents\\\\projetos\\\\processos_sql_server\\\\src\\\\main_teste1.py\""
   ]
  },
  {
   "cell_type": "code",
   "execution_count": 25,
   "metadata": {},
   "outputs": [
    {
     "name": "stdout",
     "output_type": "stream",
     "text": [
      "/home/administrador/projetos/processos_sql_server/src/notebook\n",
      "/home/administrador/projetos/processos_sql_server/src/\n",
      "/home/administrador/projetos/processos_sql_server/src/x_process\n"
     ]
    }
   ],
   "source": [
    "import sys\n",
    "import os\n",
    "\n",
    "print(os.getcwd())\n",
    "path_src = os.getcwd().replace(os.getcwd().split('/')[-1],'')\n",
    "print(path_src)\n",
    "path_x_process = os.getcwd().replace(os.getcwd().split('/')[-1],'x_process')\n",
    "print(path_x_process)\n",
    "\n",
    "\n",
    "sys.path.append(f'{path_src}')\n",
    "sys.path.append(f'{path_x_process}')\n"
   ]
  },
  {
   "cell_type": "code",
   "execution_count": 28,
   "metadata": {},
   "outputs": [
    {
     "name": "stdout",
     "output_type": "stream",
     "text": [
      "buscar credencial na aws\n",
      "Creating engine - sqlalchemy...\n",
      "Driver SQL: 'ODBC Driver 18 for SQL Server'\n",
      "conectado as 2024-10-14 12:29:50.311784\n"
     ]
    }
   ],
   "source": [
    "from x_process.process_sql import ExecProcessSqlServerNew\n",
    "\n",
    "exec = ExecProcessSqlServerNew()\n",
    "df = exec.valida_execucao_manual_via_notebook('modelo','select top 10 * from [modelo].[BaseHistorica].[LogBoletasProcessadas] order by ProcessInsertTimeFim desc')"
   ]
  },
  {
   "cell_type": "code",
   "execution_count": 29,
   "metadata": {},
   "outputs": [
    {
     "data": {
      "text/html": [
       "<div>\n",
       "<style scoped>\n",
       "    .dataframe tbody tr th:only-of-type {\n",
       "        vertical-align: middle;\n",
       "    }\n",
       "\n",
       "    .dataframe tbody tr th {\n",
       "        vertical-align: top;\n",
       "    }\n",
       "\n",
       "    .dataframe thead th {\n",
       "        text-align: right;\n",
       "    }\n",
       "</style>\n",
       "<table border=\"1\" class=\"dataframe\">\n",
       "  <thead>\n",
       "    <tr style=\"text-align: right;\">\n",
       "      <th></th>\n",
       "      <th>LogID</th>\n",
       "      <th>Thunders</th>\n",
       "      <th>ProcessoExecutado</th>\n",
       "      <th>Etapa</th>\n",
       "      <th>DataHistorico</th>\n",
       "      <th>QtdeRows</th>\n",
       "      <th>ProcessInsertTimeInic</th>\n",
       "      <th>ProcessInsertTimeFim</th>\n",
       "      <th>StatusProcesso</th>\n",
       "      <th>MsgError</th>\n",
       "    </tr>\n",
       "  </thead>\n",
       "  <tbody>\n",
       "    <tr>\n",
       "      <th>0</th>\n",
       "      <td>90</td>\n",
       "      <td>all</td>\n",
       "      <td>[modelo].[BaseHistorica].[BoletasProcessadas]</td>\n",
       "      <td>deleta_rows</td>\n",
       "      <td>2024-10-07T23:59:59.000Z</td>\n",
       "      <td>2764300</td>\n",
       "      <td>2024-10-14 12:25:55.4517796</td>\n",
       "      <td>2024-10-14 12:25:56.9956466</td>\n",
       "      <td>Sucesso</td>\n",
       "      <td>None</td>\n",
       "    </tr>\n",
       "    <tr>\n",
       "      <th>1</th>\n",
       "      <td>89</td>\n",
       "      <td>all</td>\n",
       "      <td>[modelo].[BaseHistorica].[BoletasProcessadas]</td>\n",
       "      <td>deleta_rows</td>\n",
       "      <td>2024-10-07T23:59:59.000Z</td>\n",
       "      <td>2764300</td>\n",
       "      <td>2024-10-14 12:21:46.4468400</td>\n",
       "      <td>2024-10-14 12:22:16.7706581</td>\n",
       "      <td>Sucesso</td>\n",
       "      <td>None</td>\n",
       "    </tr>\n",
       "    <tr>\n",
       "      <th>2</th>\n",
       "      <td>88</td>\n",
       "      <td>All</td>\n",
       "      <td>book.HistoricoPosicaoContraparte_log</td>\n",
       "      <td>insert</td>\n",
       "      <td>2024-10-11T23:59:59.000Z</td>\n",
       "      <td>55202</td>\n",
       "      <td>2024-10-14 07:42:12.9656119</td>\n",
       "      <td>2024-10-14 07:43:05.1721427</td>\n",
       "      <td>Sucesso</td>\n",
       "      <td>None</td>\n",
       "    </tr>\n",
       "    <tr>\n",
       "      <th>3</th>\n",
       "      <td>87</td>\n",
       "      <td>All</td>\n",
       "      <td>book.HistoricoPosicao_log</td>\n",
       "      <td>insert</td>\n",
       "      <td>2024-10-11T23:59:59.000Z</td>\n",
       "      <td>20303</td>\n",
       "      <td>2024-10-14 07:34:25.2128921</td>\n",
       "      <td>2024-10-14 07:36:02.1256583</td>\n",
       "      <td>Sucesso</td>\n",
       "      <td>None</td>\n",
       "    </tr>\n",
       "    <tr>\n",
       "      <th>4</th>\n",
       "      <td>86</td>\n",
       "      <td>Comercial</td>\n",
       "      <td>BookComercial.dbo.s_all_operations(@DataHistor...</td>\n",
       "      <td>extrair_dados_comercial</td>\n",
       "      <td>2024-10-11T23:59:59.000Z</td>\n",
       "      <td>60761</td>\n",
       "      <td>2024-10-14 05:04:21.7479728</td>\n",
       "      <td>2024-10-14 05:37:26.7779930</td>\n",
       "      <td>Sucesso</td>\n",
       "      <td>None</td>\n",
       "    </tr>\n",
       "    <tr>\n",
       "      <th>5</th>\n",
       "      <td>85</td>\n",
       "      <td>Safira</td>\n",
       "      <td>Book.dbo.s_all_operations(@DataHistorico)</td>\n",
       "      <td>extrair_dados_safira</td>\n",
       "      <td>2024-10-11T23:59:59.000Z</td>\n",
       "      <td>92290</td>\n",
       "      <td>2024-10-14 05:04:21.7479728</td>\n",
       "      <td>2024-10-14 05:20:24.3715731</td>\n",
       "      <td>Sucesso</td>\n",
       "      <td>None</td>\n",
       "    </tr>\n",
       "    <tr>\n",
       "      <th>6</th>\n",
       "      <td>84</td>\n",
       "      <td>Indra</td>\n",
       "      <td>BookIndra.dbo.s_all_operations(@DataHistorico)</td>\n",
       "      <td>extrair_dados_indra</td>\n",
       "      <td>2024-10-11T23:59:59.000Z</td>\n",
       "      <td>45875</td>\n",
       "      <td>2024-10-14 05:04:21.7323493</td>\n",
       "      <td>2024-10-14 05:13:23.4384060</td>\n",
       "      <td>Sucesso</td>\n",
       "      <td>None</td>\n",
       "    </tr>\n",
       "    <tr>\n",
       "      <th>7</th>\n",
       "      <td>82</td>\n",
       "      <td>Comercial</td>\n",
       "      <td>BookComercial.dbo.s_all_operations(@DataHistor...</td>\n",
       "      <td>extrair_dados_comercial</td>\n",
       "      <td>2024-10-11T23:59:59.000Z</td>\n",
       "      <td>60761</td>\n",
       "      <td>2024-10-14 04:19:53.3717418</td>\n",
       "      <td>2024-10-14 04:55:27.7188852</td>\n",
       "      <td>Sucesso</td>\n",
       "      <td>None</td>\n",
       "    </tr>\n",
       "    <tr>\n",
       "      <th>8</th>\n",
       "      <td>81</td>\n",
       "      <td>Safira</td>\n",
       "      <td>Book.dbo.s_all_operations(@DataHistorico)</td>\n",
       "      <td>extrair_dados_safira</td>\n",
       "      <td>2024-10-11T23:59:59.000Z</td>\n",
       "      <td>92290</td>\n",
       "      <td>2024-10-14 04:19:53.0778452</td>\n",
       "      <td>2024-10-14 04:38:48.7913992</td>\n",
       "      <td>Sucesso</td>\n",
       "      <td>None</td>\n",
       "    </tr>\n",
       "    <tr>\n",
       "      <th>9</th>\n",
       "      <td>83</td>\n",
       "      <td>Indra</td>\n",
       "      <td>BookIndra.dbo.s_all_operations(@DataHistorico)</td>\n",
       "      <td>extrair_dados_indra</td>\n",
       "      <td>2024-10-11T23:59:59.000Z</td>\n",
       "      <td>45875</td>\n",
       "      <td>2024-10-14 04:19:53.4961912</td>\n",
       "      <td>2024-10-14 04:28:16.5700549</td>\n",
       "      <td>Sucesso</td>\n",
       "      <td>None</td>\n",
       "    </tr>\n",
       "  </tbody>\n",
       "</table>\n",
       "</div>"
      ],
      "text/plain": [
       "   LogID   Thunders                                  ProcessoExecutado  \\\n",
       "0     90        all      [modelo].[BaseHistorica].[BoletasProcessadas]   \n",
       "1     89        all      [modelo].[BaseHistorica].[BoletasProcessadas]   \n",
       "2     88        All               book.HistoricoPosicaoContraparte_log   \n",
       "3     87        All                          book.HistoricoPosicao_log   \n",
       "4     86  Comercial  BookComercial.dbo.s_all_operations(@DataHistor...   \n",
       "5     85     Safira          Book.dbo.s_all_operations(@DataHistorico)   \n",
       "6     84      Indra     BookIndra.dbo.s_all_operations(@DataHistorico)   \n",
       "7     82  Comercial  BookComercial.dbo.s_all_operations(@DataHistor...   \n",
       "8     81     Safira          Book.dbo.s_all_operations(@DataHistorico)   \n",
       "9     83      Indra     BookIndra.dbo.s_all_operations(@DataHistorico)   \n",
       "\n",
       "                     Etapa             DataHistorico QtdeRows  \\\n",
       "0              deleta_rows  2024-10-07T23:59:59.000Z  2764300   \n",
       "1              deleta_rows  2024-10-07T23:59:59.000Z  2764300   \n",
       "2                   insert  2024-10-11T23:59:59.000Z    55202   \n",
       "3                   insert  2024-10-11T23:59:59.000Z    20303   \n",
       "4  extrair_dados_comercial  2024-10-11T23:59:59.000Z    60761   \n",
       "5     extrair_dados_safira  2024-10-11T23:59:59.000Z    92290   \n",
       "6      extrair_dados_indra  2024-10-11T23:59:59.000Z    45875   \n",
       "7  extrair_dados_comercial  2024-10-11T23:59:59.000Z    60761   \n",
       "8     extrair_dados_safira  2024-10-11T23:59:59.000Z    92290   \n",
       "9      extrair_dados_indra  2024-10-11T23:59:59.000Z    45875   \n",
       "\n",
       "         ProcessInsertTimeInic         ProcessInsertTimeFim StatusProcesso  \\\n",
       "0  2024-10-14 12:25:55.4517796  2024-10-14 12:25:56.9956466        Sucesso   \n",
       "1  2024-10-14 12:21:46.4468400  2024-10-14 12:22:16.7706581        Sucesso   \n",
       "2  2024-10-14 07:42:12.9656119  2024-10-14 07:43:05.1721427        Sucesso   \n",
       "3  2024-10-14 07:34:25.2128921  2024-10-14 07:36:02.1256583        Sucesso   \n",
       "4  2024-10-14 05:04:21.7479728  2024-10-14 05:37:26.7779930        Sucesso   \n",
       "5  2024-10-14 05:04:21.7479728  2024-10-14 05:20:24.3715731        Sucesso   \n",
       "6  2024-10-14 05:04:21.7323493  2024-10-14 05:13:23.4384060        Sucesso   \n",
       "7  2024-10-14 04:19:53.3717418  2024-10-14 04:55:27.7188852        Sucesso   \n",
       "8  2024-10-14 04:19:53.0778452  2024-10-14 04:38:48.7913992        Sucesso   \n",
       "9  2024-10-14 04:19:53.4961912  2024-10-14 04:28:16.5700549        Sucesso   \n",
       "\n",
       "  MsgError  \n",
       "0     None  \n",
       "1     None  \n",
       "2     None  \n",
       "3     None  \n",
       "4     None  \n",
       "5     None  \n",
       "6     None  \n",
       "7     None  \n",
       "8     None  \n",
       "9     None  "
      ]
     },
     "execution_count": 29,
     "metadata": {},
     "output_type": "execute_result"
    }
   ],
   "source": [
    "df"
   ]
  },
  {
   "cell_type": "code",
   "execution_count": null,
   "metadata": {},
   "outputs": [],
   "source": [
    "# select * from [modelo].[BaseHistorica].[LogBoletasProcessadas] order by ProcessInsertTimeFim desc\n",
    "\n",
    "# select * from [modelo].[BaseHistorica].BoletasProcessadas where ProcessInsertTimeInic IS NOT NULL"
   ]
  }
 ],
 "metadata": {
  "kernelspec": {
   "display_name": ".venv",
   "language": "python",
   "name": "python3"
  },
  "language_info": {
   "codemirror_mode": {
    "name": "ipython",
    "version": 3
   },
   "file_extension": ".py",
   "mimetype": "text/x-python",
   "name": "python",
   "nbconvert_exporter": "python",
   "pygments_lexer": "ipython3",
   "version": "3.11.5"
  }
 },
 "nbformat": 4,
 "nbformat_minor": 2
}
